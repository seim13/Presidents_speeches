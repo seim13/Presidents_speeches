{
 "cells": [
  {
   "cell_type": "code",
   "execution_count": 1,
   "metadata": {},
   "outputs": [
    {
     "name": "stderr",
     "output_type": "stream",
     "text": [
      "[nltk_data] Downloading package wordnet to\n",
      "[nltk_data]     /Users/juseimandi/nltk_data...\n",
      "[nltk_data]   Package wordnet is already up-to-date!\n"
     ]
    }
   ],
   "source": [
    "import csv\n",
    "import pandas as pd\n",
    "from nltk import download\n",
    "download('wordnet')\n",
    "from nltk.corpus import stopwords"
   ]
  },
  {
   "cell_type": "code",
   "execution_count": 21,
   "metadata": {},
   "outputs": [],
   "source": [
    "import os\n",
    "name=os.listdir('presidents-speeches/')\n",
    "Dic={}\n",
    "for i in name:\n",
    "    SpeechBy=os.listdir('presidents-speeches/'+i+'/speeches')\n",
    "    Dic[i]=SpeechBy\n",
    "\n"
   ]
  },
  {
   "cell_type": "code",
   "execution_count": 4,
   "metadata": {},
   "outputs": [
    {
     "name": "stdout",
     "output_type": "stream",
     "text": [
      "George Washington\n",
      "George W. Bush\n",
      "George H. W. Bush\n",
      "Barack Obama\n",
      "Andrew Jackson\n",
      "Donald Trump\n",
      "Bill Clinton\n",
      "Thomas Jefferson\n",
      "Franklin D.Roosevelt\n",
      "Ronald Reagan\n",
      "Richard M. Nixon\n"
     ]
    }
   ],
   "source": [
    "f = open('test101.csv', 'w')\n",
    "c=0\n",
    "with f:\n",
    "    \n",
    "    fnames = ['index','speech', 'name']\n",
    "    wtt = csv.DictWriter(f, fieldnames=fnames)    \n",
    "\n",
    "    wtt.writeheader()\n",
    "\n",
    "    for k in Dic.keys():\n",
    "        print(k)\n",
    "        l=Dic[k]\n",
    "        for i in range(len(l)):\n",
    "            pth=l[i]\n",
    "            E=open(\"presidents-speeches/\"+str(k)+\"/speeches/\"+str(pth))\n",
    "            w=E.readlines()\n",
    "            wtt.writerow({'index':c,'speech' : w, 'name': k})\n",
    "            c=c+1\n",
    "\n",
    "\n"
   ]
  },
  {
   "cell_type": "code",
   "execution_count": 5,
   "metadata": {},
   "outputs": [
    {
     "data": {
      "text/html": [
       "<div>\n",
       "<style scoped>\n",
       "    .dataframe tbody tr th:only-of-type {\n",
       "        vertical-align: middle;\n",
       "    }\n",
       "\n",
       "    .dataframe tbody tr th {\n",
       "        vertical-align: top;\n",
       "    }\n",
       "\n",
       "    .dataframe thead th {\n",
       "        text-align: right;\n",
       "    }\n",
       "</style>\n",
       "<table border=\"1\" class=\"dataframe\">\n",
       "  <thead>\n",
       "    <tr style=\"text-align: right;\">\n",
       "      <th></th>\n",
       "      <th>speech</th>\n",
       "      <th>name</th>\n",
       "    </tr>\n",
       "    <tr>\n",
       "      <th>index</th>\n",
       "      <th></th>\n",
       "      <th></th>\n",
       "    </tr>\n",
       "  </thead>\n",
       "  <tbody>\n",
       "    <tr>\n",
       "      <th>0</th>\n",
       "      <td>['b\\' Gentlemen of the House of Representative...</td>\n",
       "      <td>George Washington</td>\n",
       "    </tr>\n",
       "    <tr>\n",
       "      <th>1</th>\n",
       "      <td>[\"b'I trust I do not deceive myself when I ind...</td>\n",
       "      <td>George Washington</td>\n",
       "    </tr>\n",
       "    <tr>\n",
       "      <th>2</th>\n",
       "      <td>['b\" Fellow Citizens of the Senate and House o...</td>\n",
       "      <td>George Washington</td>\n",
       "    </tr>\n",
       "    <tr>\n",
       "      <th>3</th>\n",
       "      <td>['b\\'Whereas combinations to defeat the execut...</td>\n",
       "      <td>George Washington</td>\n",
       "    </tr>\n",
       "    <tr>\n",
       "      <th>4</th>\n",
       "      <td>['b\\' Fellow Citizens of the Senate and of the...</td>\n",
       "      <td>George Washington</td>\n",
       "    </tr>\n",
       "  </tbody>\n",
       "</table>\n",
       "</div>"
      ],
      "text/plain": [
       "                                                  speech               name\n",
       "index                                                                      \n",
       "0      ['b\\' Gentlemen of the House of Representative...  George Washington\n",
       "1      [\"b'I trust I do not deceive myself when I ind...  George Washington\n",
       "2      ['b\" Fellow Citizens of the Senate and House o...  George Washington\n",
       "3      ['b\\'Whereas combinations to defeat the execut...  George Washington\n",
       "4      ['b\\' Fellow Citizens of the Senate and of the...  George Washington"
      ]
     },
     "execution_count": 5,
     "metadata": {},
     "output_type": "execute_result"
    }
   ],
   "source": [
    "df4=pd.read_csv(\"test101.csv\",index_col=\"index\")\n",
    "df4.head(5)"
   ]
  },
  {
   "cell_type": "code",
   "execution_count": 6,
   "metadata": {},
   "outputs": [
    {
     "data": {
      "text/html": [
       "<div>\n",
       "<style scoped>\n",
       "    .dataframe tbody tr th:only-of-type {\n",
       "        vertical-align: middle;\n",
       "    }\n",
       "\n",
       "    .dataframe tbody tr th {\n",
       "        vertical-align: top;\n",
       "    }\n",
       "\n",
       "    .dataframe thead th {\n",
       "        text-align: right;\n",
       "    }\n",
       "</style>\n",
       "<table border=\"1\" class=\"dataframe\">\n",
       "  <thead>\n",
       "    <tr style=\"text-align: right;\">\n",
       "      <th></th>\n",
       "      <th>speech</th>\n",
       "      <th>name</th>\n",
       "      <th>President_id</th>\n",
       "    </tr>\n",
       "    <tr>\n",
       "      <th>index</th>\n",
       "      <th></th>\n",
       "      <th></th>\n",
       "      <th></th>\n",
       "    </tr>\n",
       "  </thead>\n",
       "  <tbody>\n",
       "    <tr>\n",
       "      <th>0</th>\n",
       "      <td>['b\\' Gentlemen of the House of Representative...</td>\n",
       "      <td>George Washington</td>\n",
       "      <td>0</td>\n",
       "    </tr>\n",
       "    <tr>\n",
       "      <th>1</th>\n",
       "      <td>[\"b'I trust I do not deceive myself when I ind...</td>\n",
       "      <td>George Washington</td>\n",
       "      <td>0</td>\n",
       "    </tr>\n",
       "    <tr>\n",
       "      <th>2</th>\n",
       "      <td>['b\" Fellow Citizens of the Senate and House o...</td>\n",
       "      <td>George Washington</td>\n",
       "      <td>0</td>\n",
       "    </tr>\n",
       "    <tr>\n",
       "      <th>3</th>\n",
       "      <td>['b\\'Whereas combinations to defeat the execut...</td>\n",
       "      <td>George Washington</td>\n",
       "      <td>0</td>\n",
       "    </tr>\n",
       "    <tr>\n",
       "      <th>4</th>\n",
       "      <td>['b\\' Fellow Citizens of the Senate and of the...</td>\n",
       "      <td>George Washington</td>\n",
       "      <td>0</td>\n",
       "    </tr>\n",
       "    <tr>\n",
       "      <th>5</th>\n",
       "      <td>[\"b' Whereas I have received authentic informa...</td>\n",
       "      <td>George Washington</td>\n",
       "      <td>0</td>\n",
       "    </tr>\n",
       "    <tr>\n",
       "      <th>6</th>\n",
       "      <td>[\"b' I meet you, upon the present occasion, wi...</td>\n",
       "      <td>George Washington</td>\n",
       "      <td>0</td>\n",
       "    </tr>\n",
       "    <tr>\n",
       "      <th>7</th>\n",
       "      <td>[\"b'Fellow-Citizens:\\\\n\\\\nI am again called up...</td>\n",
       "      <td>George Washington</td>\n",
       "      <td>0</td>\n",
       "    </tr>\n",
       "    <tr>\n",
       "      <th>8</th>\n",
       "      <td>[\"b' Whereas it appears that a state of war ex...</td>\n",
       "      <td>George Washington</td>\n",
       "      <td>0</td>\n",
       "    </tr>\n",
       "    <tr>\n",
       "      <th>9</th>\n",
       "      <td>[\"b' Fellow citizens of the Senate and House o...</td>\n",
       "      <td>George Washington</td>\n",
       "      <td>0</td>\n",
       "    </tr>\n",
       "  </tbody>\n",
       "</table>\n",
       "</div>"
      ],
      "text/plain": [
       "                                                  speech               name  \\\n",
       "index                                                                         \n",
       "0      ['b\\' Gentlemen of the House of Representative...  George Washington   \n",
       "1      [\"b'I trust I do not deceive myself when I ind...  George Washington   \n",
       "2      ['b\" Fellow Citizens of the Senate and House o...  George Washington   \n",
       "3      ['b\\'Whereas combinations to defeat the execut...  George Washington   \n",
       "4      ['b\\' Fellow Citizens of the Senate and of the...  George Washington   \n",
       "5      [\"b' Whereas I have received authentic informa...  George Washington   \n",
       "6      [\"b' I meet you, upon the present occasion, wi...  George Washington   \n",
       "7      [\"b'Fellow-Citizens:\\\\n\\\\nI am again called up...  George Washington   \n",
       "8      [\"b' Whereas it appears that a state of war ex...  George Washington   \n",
       "9      [\"b' Fellow citizens of the Senate and House o...  George Washington   \n",
       "\n",
       "       President_id  \n",
       "index                \n",
       "0                 0  \n",
       "1                 0  \n",
       "2                 0  \n",
       "3                 0  \n",
       "4                 0  \n",
       "5                 0  \n",
       "6                 0  \n",
       "7                 0  \n",
       "8                 0  \n",
       "9                 0  "
      ]
     },
     "execution_count": 6,
     "metadata": {},
     "output_type": "execute_result"
    }
   ],
   "source": [
    "df4['President_id'] = df4['name'].factorize()[0]\n",
    "president_id_df = df4[['name', 'President_id']].drop_duplicates().sort_values('President_id')\n",
    "president_to_id = dict(president_id_df.values)\n",
    "id_to_president = dict(president_id_df[['President_id', 'name']].values)\n",
    "df4.head(10)"
   ]
  },
  {
   "cell_type": "code",
   "execution_count": 9,
   "metadata": {},
   "outputs": [
    {
     "data": {
      "text/html": [
       "<div>\n",
       "<style scoped>\n",
       "    .dataframe tbody tr th:only-of-type {\n",
       "        vertical-align: middle;\n",
       "    }\n",
       "\n",
       "    .dataframe tbody tr th {\n",
       "        vertical-align: top;\n",
       "    }\n",
       "\n",
       "    .dataframe thead th {\n",
       "        text-align: right;\n",
       "    }\n",
       "</style>\n",
       "<table border=\"1\" class=\"dataframe\">\n",
       "  <thead>\n",
       "    <tr style=\"text-align: right;\">\n",
       "      <th></th>\n",
       "      <th>speech</th>\n",
       "      <th>name</th>\n",
       "      <th>President_id</th>\n",
       "    </tr>\n",
       "    <tr>\n",
       "      <th>index</th>\n",
       "      <th></th>\n",
       "      <th></th>\n",
       "      <th></th>\n",
       "    </tr>\n",
       "  </thead>\n",
       "  <tbody>\n",
       "    <tr>\n",
       "      <th>0</th>\n",
       "      <td>gentlemen house representatives utmost attenti...</td>\n",
       "      <td>George Washington</td>\n",
       "      <td>0</td>\n",
       "    </tr>\n",
       "    <tr>\n",
       "      <th>1</th>\n",
       "      <td>bi trust deceive indulge persuasion never met ...</td>\n",
       "      <td>George Washington</td>\n",
       "      <td>0</td>\n",
       "    </tr>\n",
       "    <tr>\n",
       "      <th>2</th>\n",
       "      <td>fellow citizens senate house representatives r...</td>\n",
       "      <td>George Washington</td>\n",
       "      <td>0</td>\n",
       "    </tr>\n",
       "    <tr>\n",
       "      <th>3</th>\n",
       "      <td>bwhereas combinations defeat execution laws la...</td>\n",
       "      <td>George Washington</td>\n",
       "      <td>0</td>\n",
       "    </tr>\n",
       "    <tr>\n",
       "      <th>4</th>\n",
       "      <td>fellow citizens senate house representatives c...</td>\n",
       "      <td>George Washington</td>\n",
       "      <td>0</td>\n",
       "    </tr>\n",
       "    <tr>\n",
       "      <th>5</th>\n",
       "      <td>whereas received authentic information certain...</td>\n",
       "      <td>George Washington</td>\n",
       "      <td>0</td>\n",
       "    </tr>\n",
       "    <tr>\n",
       "      <th>6</th>\n",
       "      <td>meet upon present occasion feelings naturally ...</td>\n",
       "      <td>George Washington</td>\n",
       "      <td>0</td>\n",
       "    </tr>\n",
       "    <tr>\n",
       "      <th>7</th>\n",
       "      <td>bfellowcitizensnni called upon voice country e...</td>\n",
       "      <td>George Washington</td>\n",
       "      <td>0</td>\n",
       "    </tr>\n",
       "    <tr>\n",
       "      <th>8</th>\n",
       "      <td>whereas appears state war exists austria pruss...</td>\n",
       "      <td>George Washington</td>\n",
       "      <td>0</td>\n",
       "    </tr>\n",
       "    <tr>\n",
       "      <th>9</th>\n",
       "      <td>fellow citizens senate house representatives m...</td>\n",
       "      <td>George Washington</td>\n",
       "      <td>0</td>\n",
       "    </tr>\n",
       "  </tbody>\n",
       "</table>\n",
       "</div>"
      ],
      "text/plain": [
       "                                                  speech               name  \\\n",
       "index                                                                         \n",
       "0      gentlemen house representatives utmost attenti...  George Washington   \n",
       "1      bi trust deceive indulge persuasion never met ...  George Washington   \n",
       "2      fellow citizens senate house representatives r...  George Washington   \n",
       "3      bwhereas combinations defeat execution laws la...  George Washington   \n",
       "4      fellow citizens senate house representatives c...  George Washington   \n",
       "5      whereas received authentic information certain...  George Washington   \n",
       "6      meet upon present occasion feelings naturally ...  George Washington   \n",
       "7      bfellowcitizensnni called upon voice country e...  George Washington   \n",
       "8      whereas appears state war exists austria pruss...  George Washington   \n",
       "9      fellow citizens senate house representatives m...  George Washington   \n",
       "\n",
       "       President_id  \n",
       "index                \n",
       "0                 0  \n",
       "1                 0  \n",
       "2                 0  \n",
       "3                 0  \n",
       "4                 0  \n",
       "5                 0  \n",
       "6                 0  \n",
       "7                 0  \n",
       "8                 0  \n",
       "9                 0  "
      ]
     },
     "execution_count": 9,
     "metadata": {},
     "output_type": "execute_result"
    }
   ],
   "source": [
    "import re\n",
    "REPLACE_BY_SPACE_RE = re.compile('[/(){}\\[\\]\\|@,;]')\n",
    "BAD_SYMBOLS_RE = re.compile('[^0-9a-z #+_]')\n",
    "STOPWORDS = set(stopwords.words('english'))\n",
    "\n",
    "def clean_text(text):\n",
    "    text = text.lower()\n",
    "    text = REPLACE_BY_SPACE_RE.sub(' ', text) \n",
    "    text = BAD_SYMBOLS_RE.sub('', text)\n",
    "    text = ' '.join(word for word in text.split() if word not in STOPWORDS)\n",
    "    return text\n",
    "\n",
    "df4['speech'] = df4['speech'].str.replace('b ', '')\n",
    "df4['speech'] = df4['speech'].str.replace('hexe2x80x99s', '')\n",
    "df4['speech'] = df4['speech'].str.replace('xc2xa0', '')\n",
    "df4['speech'] = df4['speech'].str.replace('\\xe2', '')\n",
    "df4['speech'] = df4['speech'].str.replace('\\x80', '')\n",
    "df4['speech'] = df4['speech'].str.replace('\\x99s', '')\n",
    "df4['speech'] = df4['speech'].str.replace('\\xa0We', '')\n",
    "df4['speech'] = df4['speech'].apply(clean_text)\n",
    " \n",
    "df4.head(10)"
   ]
  },
  {
   "cell_type": "code",
   "execution_count": null,
   "metadata": {},
   "outputs": [],
   "source": []
  },
  {
   "cell_type": "code",
   "execution_count": 11,
   "metadata": {},
   "outputs": [
    {
     "data": {
      "image/png": "[encoded data removed]",
      "text/plain": [
       "<Figure size 576x432 with 1 Axes>"
      ]
     },
     "metadata": {
      "needs_background": "light"
     },
     "output_type": "display_data"
    }
   ],
   "source": [
    "#repartiton of data by preseident to see if it is equally repartiton\n",
    "import matplotlib.pyplot as plt\n",
    "fig = plt.figure(figsize=(8,6))\n",
    "df4.groupby('name').speech.count().plot.bar(ylim=0)\n",
    "plt.show()\n"
   ]
  },
  {
   "cell_type": "markdown",
   "metadata": {},
   "source": [
    "# Find which moel is the best for us"
   ]
  },
  {
   "cell_type": "raw",
   "metadata": {},
   "source": [
    "vectorizer our features "
   ]
  },
  {
   "cell_type": "code",
   "execution_count": 12,
   "metadata": {},
   "outputs": [
    {
     "data": {
      "text/plain": [
       "(376, 4991)"
      ]
     },
     "execution_count": 12,
     "metadata": {},
     "output_type": "execute_result"
    }
   ],
   "source": [
    "#min_df is the minimum numbers of documents a word must be present in to be kept.\n",
    "#norm is set to l2, to ensure all our feature vectors have a euclidian norm of 1\n",
    "#ngram_range is set to (1, 2) to indicate that we want to consider both unigrams and bigrams\n",
    "\n",
    "from sklearn.feature_extraction.text import TfidfVectorizer\n",
    "\n",
    "tfidf = TfidfVectorizer(sublinear_tf=True, min_df=15, norm='l2', encoding='latin-1', ngram_range=(1, 2), stop_words='english')\n",
    "features = tfidf.fit_transform(df4.speech).toarray()\n",
    "labels = df4.President_id\n",
    "features.shape"
   ]
  },
  {
   "cell_type": "code",
   "execution_count": 14,
   "metadata": {},
   "outputs": [
    {
     "name": "stderr",
     "output_type": "stream",
     "text": [
      "//anaconda3/lib/python3.7/site-packages/sklearn/linear_model/logistic.py:433: FutureWarning: Default solver will be changed to 'lbfgs' in 0.22. Specify a solver to silence this warning.\n",
      "  FutureWarning)\n",
      "//anaconda3/lib/python3.7/site-packages/sklearn/linear_model/logistic.py:460: FutureWarning: Default multi_class will be changed to 'auto' in 0.22. Specify the multi_class option to silence this warning.\n",
      "  \"this warning.\", FutureWarning)\n",
      "//anaconda3/lib/python3.7/site-packages/sklearn/linear_model/logistic.py:433: FutureWarning: Default solver will be changed to 'lbfgs' in 0.22. Specify a solver to silence this warning.\n",
      "  FutureWarning)\n",
      "//anaconda3/lib/python3.7/site-packages/sklearn/linear_model/logistic.py:460: FutureWarning: Default multi_class will be changed to 'auto' in 0.22. Specify the multi_class option to silence this warning.\n",
      "  \"this warning.\", FutureWarning)\n",
      "//anaconda3/lib/python3.7/site-packages/sklearn/linear_model/logistic.py:433: FutureWarning: Default solver will be changed to 'lbfgs' in 0.22. Specify a solver to silence this warning.\n",
      "  FutureWarning)\n",
      "//anaconda3/lib/python3.7/site-packages/sklearn/linear_model/logistic.py:460: FutureWarning: Default multi_class will be changed to 'auto' in 0.22. Specify the multi_class option to silence this warning.\n",
      "  \"this warning.\", FutureWarning)\n",
      "//anaconda3/lib/python3.7/site-packages/sklearn/linear_model/logistic.py:433: FutureWarning: Default solver will be changed to 'lbfgs' in 0.22. Specify a solver to silence this warning.\n",
      "  FutureWarning)\n",
      "//anaconda3/lib/python3.7/site-packages/sklearn/linear_model/logistic.py:460: FutureWarning: Default multi_class will be changed to 'auto' in 0.22. Specify the multi_class option to silence this warning.\n",
      "  \"this warning.\", FutureWarning)\n",
      "//anaconda3/lib/python3.7/site-packages/sklearn/linear_model/logistic.py:433: FutureWarning: Default solver will be changed to 'lbfgs' in 0.22. Specify a solver to silence this warning.\n",
      "  FutureWarning)\n",
      "//anaconda3/lib/python3.7/site-packages/sklearn/linear_model/logistic.py:460: FutureWarning: Default multi_class will be changed to 'auto' in 0.22. Specify the multi_class option to silence this warning.\n",
      "  \"this warning.\", FutureWarning)\n"
     ]
    }
   ],
   "source": [
    "from sklearn.linear_model import LogisticRegression\n",
    "from sklearn.ensemble import RandomForestClassifier\n",
    "from sklearn.svm import LinearSVC\n",
    "from sklearn.model_selection import cross_val_score\n",
    "from sklearn.naive_bayes import MultinomialNB\n",
    "models = [\n",
    "    RandomForestClassifier(n_estimators=200, max_depth=3, random_state=0),\n",
    "    LinearSVC(),\n",
    "    MultinomialNB(),\n",
    "    LogisticRegression(random_state=0),\n",
    "]\n",
    "CV = 5\n",
    "cv_df = pd.DataFrame(index=range(CV * len(models)))\n",
    "entries = []\n",
    "for model in models:\n",
    "    model_name = model.__class__.__name__\n",
    "    accuracies = cross_val_score(model, features, labels, scoring='accuracy', cv=CV)\n",
    "    for fold_idx, accuracy in enumerate(accuracies):\n",
    "        entries.append((model_name, fold_idx, accuracy))\n",
    "cv_df = pd.DataFrame(entries, columns=['model_name', 'fold_idx', 'accuracy'])"
   ]
  },
  {
   "cell_type": "code",
   "execution_count": 15,
   "metadata": {},
   "outputs": [
    {
     "data": {
      "image/png": "[encoded data removed]",
      "text/plain": [
       "<Figure size 432x288 with 1 Axes>"
      ]
     },
     "metadata": {
      "needs_background": "light"
     },
     "output_type": "display_data"
    }
   ],
   "source": [
    "import seaborn as sns\n",
    "sns.boxplot(x='model_name', y='accuracy', data=cv_df)\n",
    "sns.stripplot(x='model_name', y='accuracy', data=cv_df, \n",
    "              size=8, jitter=True, edgecolor=\"gray\", linewidth=2)\n",
    "plt.show()"
   ]
  },
  {
   "cell_type": "code",
   "execution_count": 16,
   "metadata": {},
   "outputs": [
    {
     "data": {
      "text/plain": [
       "model_name\n",
       "LinearSVC                 0.902220\n",
       "LogisticRegression        0.735175\n",
       "MultinomialNB             0.574864\n",
       "RandomForestClassifier    0.522353\n",
       "Name: accuracy, dtype: float64"
      ]
     },
     "execution_count": 16,
     "metadata": {},
     "output_type": "execute_result"
    }
   ],
   "source": [
    "cv_df.groupby('model_name').accuracy.mean()"
   ]
  },
  {
   "cell_type": "code",
   "execution_count": null,
   "metadata": {},
   "outputs": [],
   "source": [
    "#here the best model is LinearSVC  so we will select this one to continue"
   ]
  },
  {
   "cell_type": "code",
   "execution_count": 17,
   "metadata": {},
   "outputs": [],
   "source": [
    "# train and classify using best Classifier model\n",
    "\n",
    "from sklearn.model_selection import train_test_split\n",
    "from sklearn.feature_extraction.text import CountVectorizer\n",
    "from sklearn.feature_extraction.text import TfidfTransformer\n",
    "from sklearn.naive_bayes import MultinomialNB\n",
    "\n",
    "X_train, X_test, y_train, y_test = train_test_split(df4['speech'], df4['name'], random_state = 0)\n",
    "count_vect = CountVectorizer()\n",
    "X_train_counts = count_vect.fit_transform(X_train)\n",
    "tfidf_transformer = TfidfTransformer()\n",
    "X_train_tfidf = tfidf_transformer.fit_transform(X_train_counts)\n",
    "clf = LinearSVC().fit(X_train_tfidf, y_train)"
   ]
  },
  {
   "cell_type": "code",
   "execution_count": 18,
   "metadata": {},
   "outputs": [
    {
     "name": "stdout",
     "output_type": "stream",
     "text": [
      "['Thomas Jefferson']\n"
     ]
    }
   ],
   "source": [
    "txt=df4['speech'][240]\n",
    "print(clf.predict(count_vect.transform([txt])))"
   ]
  },
  {
   "cell_type": "code",
   "execution_count": 19,
   "metadata": {},
   "outputs": [
    {
     "data": {
      "text/html": [
       "<div>\n",
       "<style scoped>\n",
       "    .dataframe tbody tr th:only-of-type {\n",
       "        vertical-align: middle;\n",
       "    }\n",
       "\n",
       "    .dataframe tbody tr th {\n",
       "        vertical-align: top;\n",
       "    }\n",
       "\n",
       "    .dataframe thead th {\n",
       "        text-align: right;\n",
       "    }\n",
       "</style>\n",
       "<table border=\"1\" class=\"dataframe\">\n",
       "  <thead>\n",
       "    <tr style=\"text-align: right;\">\n",
       "      <th></th>\n",
       "      <th>speech</th>\n",
       "      <th>name</th>\n",
       "      <th>President_id</th>\n",
       "    </tr>\n",
       "    <tr>\n",
       "      <th>index</th>\n",
       "      <th></th>\n",
       "      <th></th>\n",
       "      <th></th>\n",
       "    </tr>\n",
       "  </thead>\n",
       "  <tbody>\n",
       "    <tr>\n",
       "      <th>240</th>\n",
       "      <td>gentleman received remonstrance pleased addres...</td>\n",
       "      <td>Thomas Jefferson</td>\n",
       "      <td>7</td>\n",
       "    </tr>\n",
       "  </tbody>\n",
       "</table>\n",
       "</div>"
      ],
      "text/plain": [
       "                                                  speech              name  \\\n",
       "index                                                                        \n",
       "240    gentleman received remonstrance pleased addres...  Thomas Jefferson   \n",
       "\n",
       "       President_id  \n",
       "index                \n",
       "240               7  "
      ]
     },
     "execution_count": 19,
     "metadata": {},
     "output_type": "execute_result"
    }
   ],
   "source": [
    "df4[df4['speech']== txt]"
   ]
  },
  {
   "cell_type": "code",
   "execution_count": null,
   "metadata": {},
   "outputs": [],
   "source": [
    "#on train le model et on plot la correlation entre actuel et predit pour voir sur quel president le model marche le mieux"
   ]
  },
  {
   "cell_type": "code",
   "execution_count": 25,
   "metadata": {},
   "outputs": [
    {
     "data": {
      "image/png": "[encoded data removed]",
      "text/plain": [
       "<Figure size 720x720 with 2 Axes>"
      ]
     },
     "metadata": {
      "needs_background": "light"
     },
     "output_type": "display_data"
    }
   ],
   "source": [
    "model = LinearSVC()\n",
    "\n",
    "X_train, X_test, y_train, y_test, indices_train, indices_test = train_test_split(features, labels, df4.index, test_size=0.2, random_state=0)\n",
    "model.fit(X_train, y_train)\n",
    "y_pred = model.predict(X_test)\n",
    "\n",
    "from sklearn.metrics import confusion_matrix\n",
    "\n",
    "conf_mat = confusion_matrix(y_test, y_pred)\n",
    "fig, ax = plt.subplots(figsize=(10,10))\n",
    "sns.heatmap(conf_mat, annot=True, fmt='d',\n",
    "            xticklabels=president_id_df.name.values, yticklabels=president_id_df.name.values)\n",
    "plt.ylabel('Actual')\n",
    "plt.xlabel('Predicted')\n",
    "plt.show()"
   ]
  },
  {
   "cell_type": "code",
   "execution_count": 22,
   "metadata": {},
   "outputs": [
    {
     "name": "stdout",
     "output_type": "stream",
     "text": [
      "# 'Andrew Jackson':\n",
      "  . Top unigrams:\n",
      "       . duties\n",
      "       . removal\n",
      "  . Top bigrams:\n",
      "       . general government\n",
      "       . public money\n",
      "# 'Barack Obama':\n",
      "  . Top unigrams:\n",
      "       . xc2xa0\n",
      "       . thatxe2x80x99s\n",
      "  . Top bigrams:\n",
      "       . applause xc2xa0\n",
      "       . laughter xc2xa0\n",
      "# 'Bill Clinton':\n",
      "  . Top unigrams:\n",
      "       . ought\n",
      "       . bosnia\n",
      "  . Top bigrams:\n",
      "       . fellow americans\n",
      "       . 21st century\n",
      "# 'Donald Trump':\n",
      "  . Top unigrams:\n",
      "       . incredible\n",
      "       . beautiful\n",
      "  . Top bigrams:\n",
      "       . thank applause\n",
      "       . want thank\n",
      "# 'Franklin D.Roosevelt':\n",
      "  . Top unigrams:\n",
      "       . italy\n",
      "       . civilization\n",
      "  . Top bigrams:\n",
      "       . army navy\n",
      "       . purchasing power\n",
      "# 'George H. W. Bush':\n",
      "  . Top unigrams:\n",
      "       . kuwait\n",
      "       . panama\n",
      "  . Top bigrams:\n",
      "       . new world\n",
      "       . let tell\n",
      "# 'George W. Bush':\n",
      "  . Top unigrams:\n",
      "       . appreciate\n",
      "       . terrorists\n",
      "  . Top bigrams:\n",
      "       . weapons mass\n",
      "       . september 11th\n",
      "# 'George Washington':\n",
      "  . Top unigrams:\n",
      "       . pennsylvania\n",
      "       . thereof\n",
      "  . Top bigrams:\n",
      "       . house representatives\n",
      "       . citizens senate\n",
      "# 'Richard M. Nixon':\n",
      "  . Top unigrams:\n",
      "       . vietnam\n",
      "       . goal\n",
      "  . Top bigrams:\n",
      "       . end war\n",
      "       . shall continue\n",
      "# 'Ronald Reagan':\n",
      "  . Top unigrams:\n",
      "       . weve\n",
      "       . lebanon\n",
      "  . Top bigrams:\n",
      "       . xc2xa0 xc2xa0\n",
      "       . human freedom\n",
      "# 'Thomas Jefferson':\n",
      "  . Top unigrams:\n",
      "       . mississippi\n",
      "       . waters\n",
      "  . Top bigrams:\n",
      "       . new orleans\n",
      "       . fellow citizens\n"
     ]
    }
   ],
   "source": [
    "import numpy as np\n",
    "model.fit(features, labels)\n",
    "N = 2\n",
    "for name, president_id in sorted(president_to_id.items()):\n",
    "    indices = np.argsort(model.coef_[president_id])\n",
    "    feature_names = np.array(tfidf.get_feature_names())[indices]\n",
    "    unigrams = [v for v in reversed(feature_names) if len(v.split(' ')) == 1][:N]\n",
    "    bigrams = [v for v in reversed(feature_names) if len(v.split(' ')) == 2][:N]\n",
    "    print(\"# '{}':\".format(name))\n",
    "    print(\"  . Top unigrams:\\n       . {}\".format('\\n       . '.join(unigrams)))\n",
    "    print(\"  . Top bigrams:\\n       . {}\".format('\\n       . '.join(bigrams)))\n"
   ]
  },
  {
   "cell_type": "code",
   "execution_count": 26,
   "metadata": {},
   "outputs": [
    {
     "name": "stdout",
     "output_type": "stream",
     "text": [
      "                      precision    recall  f1-score   support\n",
      "\n",
      "   George Washington       0.70      0.88      0.78         8\n",
      "      George W. Bush       0.90      1.00      0.95         9\n",
      "   George H. W. Bush       1.00      0.50      0.67         6\n",
      "        Barack Obama       0.88      1.00      0.93         7\n",
      "      Andrew Jackson       0.50      0.50      0.50         4\n",
      "        Donald Trump       1.00      0.75      0.86         4\n",
      "        Bill Clinton       0.80      0.80      0.80         5\n",
      "    Thomas Jefferson       1.00      0.67      0.80         6\n",
      "Franklin D.Roosevelt       1.00      1.00      1.00        12\n",
      "       Ronald Reagan       0.83      1.00      0.91        10\n",
      "    Richard M. Nixon       1.00      1.00      1.00         5\n",
      "\n",
      "           micro avg       0.87      0.87      0.87        76\n",
      "           macro avg       0.87      0.83      0.84        76\n",
      "        weighted avg       0.88      0.87      0.86        76\n",
      "\n"
     ]
    }
   ],
   "source": [
    "#see how good is our model\n",
    "from sklearn import metrics\n",
    "print(metrics.classification_report(y_test, y_pred, target_names=df4['name'].unique()))"
   ]
  },
  {
   "cell_type": "code",
   "execution_count": 87,
   "metadata": {},
   "outputs": [
    {
     "name": "stdout",
     "output_type": "stream",
     "text": [
      "'Andrew Jackson' predicted as 'George Washington' : 2 examples.\n"
     ]
    },
    {
     "data": {
      "text/html": [
       "<div>\n",
       "<style scoped>\n",
       "    .dataframe tbody tr th:only-of-type {\n",
       "        vertical-align: middle;\n",
       "    }\n",
       "\n",
       "    .dataframe tbody tr th {\n",
       "        vertical-align: top;\n",
       "    }\n",
       "\n",
       "    .dataframe thead th {\n",
       "        text-align: right;\n",
       "    }\n",
       "</style>\n",
       "<table border=\"1\" class=\"dataframe\">\n",
       "  <thead>\n",
       "    <tr style=\"text-align: right;\">\n",
       "      <th></th>\n",
       "      <th>name</th>\n",
       "      <th>speech</th>\n",
       "    </tr>\n",
       "    <tr>\n",
       "      <th>index</th>\n",
       "      <th></th>\n",
       "      <th></th>\n",
       "    </tr>\n",
       "  </thead>\n",
       "  <tbody>\n",
       "    <tr>\n",
       "      <th>142</th>\n",
       "      <td>Andrew Jackson</td>\n",
       "      <td>bwhereas act congress united states 7th januar...</td>\n",
       "    </tr>\n",
       "    <tr>\n",
       "      <th>150</th>\n",
       "      <td>Andrew Jackson</td>\n",
       "      <td>bwhereas act congress united states passed 29t...</td>\n",
       "    </tr>\n",
       "  </tbody>\n",
       "</table>\n",
       "</div>"
      ],
      "text/plain": [
       "                 name                                             speech\n",
       "index                                                                   \n",
       "142    Andrew Jackson  bwhereas act congress united states 7th januar...\n",
       "150    Andrew Jackson  bwhereas act congress united states passed 29t..."
      ]
     },
     "metadata": {},
     "output_type": "display_data"
    },
    {
     "name": "stdout",
     "output_type": "stream",
     "text": [
      "\n",
      "'George H. W. Bush' predicted as 'Ronald Reagan' : 2 examples.\n"
     ]
    },
    {
     "data": {
      "text/html": [
       "<div>\n",
       "<style scoped>\n",
       "    .dataframe tbody tr th:only-of-type {\n",
       "        vertical-align: middle;\n",
       "    }\n",
       "\n",
       "    .dataframe tbody tr th {\n",
       "        vertical-align: top;\n",
       "    }\n",
       "\n",
       "    .dataframe thead th {\n",
       "        text-align: right;\n",
       "    }\n",
       "</style>\n",
       "<table border=\"1\" class=\"dataframe\">\n",
       "  <thead>\n",
       "    <tr style=\"text-align: right;\">\n",
       "      <th></th>\n",
       "      <th>name</th>\n",
       "      <th>speech</th>\n",
       "    </tr>\n",
       "    <tr>\n",
       "      <th>index</th>\n",
       "      <th></th>\n",
       "      <th></th>\n",
       "    </tr>\n",
       "  </thead>\n",
       "  <tbody>\n",
       "    <tr>\n",
       "      <th>76</th>\n",
       "      <td>George H. W. Bush</td>\n",
       "      <td>bmy fellow citizens last night ordered us mili...</td>\n",
       "    </tr>\n",
       "    <tr>\n",
       "      <th>65</th>\n",
       "      <td>George H. W. Bush</td>\n",
       "      <td>bmr speaker mr president distinguished members...</td>\n",
       "    </tr>\n",
       "  </tbody>\n",
       "</table>\n",
       "</div>"
      ],
      "text/plain": [
       "                    name                                             speech\n",
       "index                                                                      \n",
       "76     George H. W. Bush  bmy fellow citizens last night ordered us mili...\n",
       "65     George H. W. Bush  bmr speaker mr president distinguished members..."
      ]
     },
     "metadata": {},
     "output_type": "display_data"
    },
    {
     "name": "stdout",
     "output_type": "stream",
     "text": [
      "\n"
     ]
    }
   ],
   "source": [
    "#observer ou les prediction ont eu faux pour ameliorer le model\n",
    "for predicted in president_id_df.President_id:\n",
    "    for actual in president_id_df.President_id:\n",
    "        if predicted != actual and conf_mat[actual, predicted] >= 2:\n",
    "            print(\"'{}' predicted as '{}' : {} examples.\".format(id_to_president[actual], id_to_president[predicted], conf_mat[actual, predicted]))\n",
    "            display(df4.loc[indices_test[(y_test == actual) & (y_pred == predicted)]][['name', 'speech']])\n",
    "            print('')"
   ]
  },
  {
   "cell_type": "raw",
   "metadata": {},
   "source": [
    "https://towardsdatascience.com/multi-class-text-classification-with-scikit-learn-12f1e60e0a9f"
   ]
  }
 ],
 "metadata": {
  "kernelspec": {
   "display_name": "Python 3",
   "language": "python",
   "name": "python3"
  },
  "language_info": {
   "codemirror_mode": {
    "name": "ipython",
    "version": 3
   },
   "file_extension": ".py",
   "mimetype": "text/x-python",
   "name": "python",
   "nbconvert_exporter": "python",
   "pygments_lexer": "ipython3",
   "version": "3.7.3"
  }
 },
 "nbformat": 4,
 "nbformat_minor": 2
}
